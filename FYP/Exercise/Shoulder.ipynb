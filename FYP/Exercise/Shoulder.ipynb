{
 "cells": [
  {
   "cell_type": "code",
   "execution_count": 2,
   "metadata": {},
   "outputs": [],
   "source": [
    "import cv2\n",
    "import mediapipe as mp\n",
    "mp_drawing = mp.solutions.drawing_utils\n",
    "mp_pose = mp.solutions.pose\n",
    "def findPosition(image, draw=True):\n",
    "    lmList = []\n",
    "    if results.pose_landmarks:\n",
    "        mp_drawing.draw_landmarks(\n",
    "        image, results.pose_landmarks, mp_pose.POSE_CONNECTIONS)\n",
    "        for id, lm in enumerate(results.pose_landmarks.landmark):\n",
    "            h, w, c = image.shape\n",
    "            cx, cy = int(lm.x * w), int(lm.y * h)\n",
    "            lmList.append([id, cx, cy])\n",
    "    return lmList"
   ]
  },
  {
   "cell_type": "code",
   "execution_count": 45,
   "metadata": {},
   "outputs": [
    {
     "name": "stdout",
     "output_type": "stream",
     "text": [
      "1\n",
      "2\n",
      "3\n",
      "4\n",
      "5\n",
      "6\n",
      "7\n"
     ]
    }
   ],
   "source": [
    "counter=0\n",
    "cap = cv2.VideoCapture(\"Shoulder.webm\")\n",
    "\n",
    "with mp_pose.Pose(min_detection_confidence=0.5, min_tracking_confidence=0.5) as pose:\n",
    "    while cap.isOpened():\n",
    "        ret, frame = cap.read()\n",
    "        \n",
    "        if ret == False:\n",
    "            break\n",
    "        \n",
    "        frame = cv2.flip(frame,1)\n",
    "        # Recolor image to RGB\n",
    "        image = cv2.cvtColor(frame, cv2.COLOR_BGR2RGB)\n",
    "        image.flags.writeable = False\n",
    "      \n",
    "        # Make detection\n",
    "        results = pose.process(image)\n",
    "    \n",
    "        # Recolor back to BGR\n",
    "        image.flags.writeable = True\n",
    "        image = cv2.cvtColor(image, cv2.COLOR_RGB2BGR)\n",
    "        \n",
    "        try:\n",
    "            if results.pose_landmarks is not None:\n",
    "                mp_drawing.draw_landmarks(image,results.pose_landmarks,mp_pose.POSE_CONNECTIONS)\n",
    "                lmList = findPosition(image, draw=True)\n",
    "    #             if len(lmList) != 0:\n",
    "    #                 cv2.circle(image, (lmList[12][1], lmList[12][2]), 20, (0, 0, 255), cv2.FILLED)\n",
    "    #                 cv2.circle(image, (lmList[11][1], lmList[11][2]), 20, (0, 0, 255), cv2.FILLED)\n",
    "    #                 cv2.circle(image, (lmList[12][1], lmList[12][2]), 20, (0, 0, 255), cv2.FILLED)\n",
    "    #                 cv2.circle(image, (lmList[11][1], lmList[11][2]), 20, (0, 0, 255), cv2.FILLED)\n",
    "                if (lmList[12][2] and lmList[11][2] >= lmList[14][2] and lmList[13][2]):\n",
    "    #                 cv2.circle(image, (lmList[12][1], lmList[12][2]), 20, (0, 255, 0), cv2.FILLED)\n",
    "    #                 cv2.circle(image, (lmList[11][1], lmList[11][2]), 20, (0, 255, 0), cv2.FILLED)\n",
    "    #                 cv2.circle(image, (lmList[14][1], lmList[14][2]), 20, (0, 255, 0), cv2.FILLED)\n",
    "    #                 cv2.circle(image, (lmList[13][1], lmList[13][2]), 20, (0, 255, 0), cv2.FILLED)\n",
    "                    stage = \"down\"\n",
    "                if (lmList[12][2] and lmList[11][2] <= lmList[14][2] and lmList[13][2]) and stage == \"down\":\n",
    "                    stage = \"up\"\n",
    "                    counter += 1\n",
    "                    print(counter)\n",
    "\n",
    "        except:\n",
    "            pass\n",
    "        text = \"{}:{}\".format(\"Shoulder \", counter)\n",
    "        cv2.putText(image, text, (10, 40), cv2.FONT_HERSHEY_SIMPLEX,1, (0, 0, 255), 2)\n",
    "        cv2.imshow('Shoulder Counter ', image)\n",
    "\n",
    "        if cv2.waitKey(10) & 0xFF == ord('q'):\n",
    "            break\n",
    "\n",
    "cap.release()\n",
    "cv2.destroyAllWindows()"
   ]
  }
 ],
 "metadata": {
  "kernelspec": {
   "display_name": "Python 3",
   "language": "python",
   "name": "python3"
  },
  "language_info": {
   "codemirror_mode": {
    "name": "ipython",
    "version": 3
   },
   "file_extension": ".py",
   "mimetype": "text/x-python",
   "name": "python",
   "nbconvert_exporter": "python",
   "pygments_lexer": "ipython3",
   "version": "3.7.6"
  }
 },
 "nbformat": 4,
 "nbformat_minor": 4
}
